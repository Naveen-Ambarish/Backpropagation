{
  "nbformat": 4,
  "nbformat_minor": 0,
  "metadata": {
    "colab": {
      "name": "Backpropagation.ipynb",
      "provenance": [],
      "collapsed_sections": []
    },
    "kernelspec": {
      "name": "python3",
      "display_name": "Python 3"
    },
    "language_info": {
      "name": "python"
    }
  },
  "cells": [
    {
      "cell_type": "markdown",
      "metadata": {
        "id": "JEphydOqkz7i"
      },
      "source": [
        "Updating Weights using BackPropagation Neural Networks"
      ]
    },
    {
      "cell_type": "code",
      "metadata": {
        "id": "ofUnuYfoTgNZ"
      },
      "source": [
        "import numpy as np\n",
        "import math"
      ],
      "execution_count": 1,
      "outputs": []
    },
    {
      "cell_type": "markdown",
      "metadata": {
        "id": "OtNkIXKtk8iQ"
      },
      "source": [
        "Sigmoid Function"
      ]
    },
    {
      "cell_type": "code",
      "metadata": {
        "id": "asadFEgIdWwg"
      },
      "source": [
        "def sig(x):\n",
        " return 1/(1 + np.exp(-x))"
      ],
      "execution_count": 2,
      "outputs": []
    },
    {
      "cell_type": "markdown",
      "metadata": {
        "id": "Hqsmw4Uvk_ia"
      },
      "source": [
        "Inputs"
      ]
    },
    {
      "cell_type": "markdown",
      "metadata": {
        "id": "8CXY7VoLn9B2"
      },
      "source": [
        "![image.png](data:image/png;base64,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)\n",
        "\n",
        "> Indented block\n",
        "\n"
      ]
    },
    {
      "cell_type": "code",
      "metadata": {
        "id": "KxTRqnqyT4C9"
      },
      "source": [
        "weights = [0.11 ,0.21,0.12 ,0.08,0.14,0.15 ]\n",
        "bias = [0.3,0.4]\n",
        "inputs = [2,3]\n",
        "threshold = 0.001\n",
        "iter = 10000000\n",
        "neta=0.6"
      ],
      "execution_count": 3,
      "outputs": []
    },
    {
      "cell_type": "markdown",
      "metadata": {
        "id": "dfIixHoIlDxW"
      },
      "source": [
        "Calculating the convergence rate"
      ]
    },
    {
      "cell_type": "code",
      "metadata": {
        "id": "c3XV8rejUMce",
        "colab": {
          "base_uri": "https://localhost:8080/"
        },
        "outputId": "2fd814a7-b5e7-4d4e-daba-f8eeda967f03"
      },
      "source": [
        "for i in range(iter):\n",
        "  net_a2 = weights[1]*inputs[0] + weights[0]*inputs[1] + bias[0]\n",
        "  net_a1 = weights[3]*inputs[0] + weights[2]*inputs[1] + bias[0]\n",
        "  out_a2 = sig(net_a2)\n",
        "  out_a1 = sig(net_a1)\n",
        "  net_out = weights[4]*out_a2 + weights[5]*out_a1 +bias[1]\n",
        "  output = sig(net_out)\n",
        "\n",
        "  if abs(output-1) < threshold:\n",
        "    convergence = i\n",
        "    break\n",
        "   \n",
        "  ### Error Calculation\n",
        "\n",
        "  error = 0.5 * pow((1-output),2)\n",
        "\n",
        "  ### Change in Weights\n",
        "\n",
        "  delw1 = (output-1) * output * (1-output) * weights[4] * out_a2*(1-out_a2) * inputs[0]\n",
        "  delw2 = (output-1) * output * (1-output) * weights[4] * out_a2*(1-out_a2) * inputs[1]\n",
        "  delw3 = (output-1) * output * (1-output) * weights[5] * out_a1*(1-out_a1) * inputs[0]\n",
        "  delw4 = (output-1) * output * (1-output) * weights[5] * out_a1*(1-out_a1) * inputs[1]\n",
        "  delw5 = (output-1) * output * (1-output) * out_a2\n",
        "  delw6 = (output-1) * output * (1-output) * out_a1\n",
        "\n",
        "  ### Updation in weights\n",
        "  weights[0] = weights[0] - (neta * delw1)\n",
        "  weights[1] = weights[1] - (neta * delw2)\n",
        "  weights[2] = weights[2] - (neta * delw3)\n",
        "  weights[3] = weights[3] - (neta * delw4)\n",
        "  weights[4] = weights[4] - (neta * delw5)\n",
        "  weights[5] = weights[5] - (neta * delw6)\n",
        "\n",
        "print(\"convergence occurs at the step when \\u03B7 = 0.6:\",convergence)"
      ],
      "execution_count": 4,
      "outputs": [
        {
          "output_type": "stream",
          "text": [
            "convergence occurs at the step when η = 0.6: 418895\n"
          ],
          "name": "stdout"
        }
      ]
    },
    {
      "cell_type": "code",
      "metadata": {
        "colab": {
          "base_uri": "https://localhost:8080/"
        },
        "id": "-v3KpnGSdmK8",
        "outputId": "557de104-904f-4a27-d614-d1df68eeb6dc"
      },
      "source": [
        "print(weights)"
      ],
      "execution_count": 5,
      "outputs": [
        {
          "output_type": "stream",
          "text": [
            "[0.6324674753770839, 0.9937012130655791, 0.6754569705576186, 0.9131854558363921, 3.319850041945741, 3.2875775289186477]\n"
          ],
          "name": "stdout"
        }
      ]
    }
  ]
}